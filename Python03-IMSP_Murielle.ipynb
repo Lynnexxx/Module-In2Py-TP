{
 "cells": [
  {
   "cell_type": "code",
   "execution_count": 16,
   "id": "553e6bac",
   "metadata": {},
   "outputs": [
    {
     "ename": "SyntaxError",
     "evalue": "invalid syntax (<ipython-input-16-d8383474913e>, line 3)",
     "output_type": "error",
     "traceback": [
      "\u001b[0;36m  File \u001b[0;32m\"<ipython-input-16-d8383474913e>\"\u001b[0;36m, line \u001b[0;32m3\u001b[0m\n\u001b[0;31m    i-\u001b[0m\n\u001b[0m      ^\u001b[0m\n\u001b[0;31mSyntaxError\u001b[0m\u001b[0;31m:\u001b[0m invalid syntax\n"
     ]
    }
   ],
   "source": [
    "#e/\n",
    "\n",
    "i-\n",
    "\n",
    "sentence= input('Enter a sentence')\n",
    "\n",
    "for character in sentence :\n",
    "    if letter in \"AEIOUYaeiouy\":\n",
    "        man=character\n",
    "        continue\n",
    "   \n",
    "\n",
    "print('The first vowel in this sentence is: ',sentence[man])\n",
    "\n",
    "\n",
    "        \n",
    "        (nc1):\n",
    "        while(i c= n):\n",
    "i=len(sentence)\n",
    "while i>=0:\n",
    "    if(i c len(sentence)/2):\n",
    "        \n",
    "        while(j <=i):\n",
    "            if letter in \"AEIOUYaeiouy\":\n",
    "                man=character\n",
    "                break\n",
    "            \n",
    "\n",
    "\n",
    "\n",
    "#f/\n",
    "\n",
    "scores=tuple(range(1,11))\n",
    "\n",
    "print(\"The lowest possible score is ___, and the highest possible score is ___.\")\n",
    "for i in scores:\n",
    "    if i==1:\n",
    "        print('A judge can give a gymnast ',scores[i-1],' point')\n",
    "    else:\n",
    "        print('A judge can give a gymnast ',scores[i-1],' points')  "
   ]
  },
  {
   "cell_type": "code",
   "execution_count": 21,
   "id": "eae257b3",
   "metadata": {},
   "outputs": [
    {
     "name": "stdout",
     "output_type": "stream",
     "text": [
      "Enter a sentence: drftghjk\n",
      "THere is not vowel in this sentence\n"
     ]
    }
   ],
   "source": []
  },
  {
   "cell_type": "code",
   "execution_count": null,
   "id": "16c3b0b2",
   "metadata": {},
   "outputs": [],
   "source": []
  }
 ],
 "metadata": {
  "kernelspec": {
   "display_name": "Python 3",
   "language": "python",
   "name": "python3"
  },
  "language_info": {
   "codemirror_mode": {
    "name": "ipython",
    "version": 3
   },
   "file_extension": ".py",
   "mimetype": "text/x-python",
   "name": "python",
   "nbconvert_exporter": "python",
   "pygments_lexer": "ipython3",
   "version": "3.8.5"
  }
 },
 "nbformat": 4,
 "nbformat_minor": 5
}
